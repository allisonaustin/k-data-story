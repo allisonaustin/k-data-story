{
 "cells": [
  {
   "cell_type": "code",
   "execution_count": 8,
   "metadata": {},
   "outputs": [],
   "source": [
    "import pandas as pd\n",
    "import numpy as np\n",
    "import matplotlib.pyplot as plt\n",
    "from datetime import datetime\n"
   ]
  },
  {
   "cell_type": "code",
   "execution_count": 80,
   "metadata": {},
   "outputs": [],
   "source": [
    "rack_norm = 'l07'\n",
    "rack_err = 'm05'\n",
    "rack_neighbor = 'm07'\n",
    "rack_neighbor_list = ['k06', 'k07', 'l06', 'm06', 'm07']"
   ]
  },
  {
   "cell_type": "code",
   "execution_count": 11,
   "metadata": {},
   "outputs": [],
   "source": [
    "start, end = 145130, 187465\n",
    "file_name = 'rack_env_all.20190528(1).csv'"
   ]
  },
  {
   "cell_type": "code",
   "execution_count": 12,
   "metadata": {},
   "outputs": [
    {
     "name": "stderr",
     "output_type": "stream",
     "text": [
      "/var/folders/h0/hxt3nq492rq5tx9r5c7xtld80000gn/T/ipykernel_55743/3051003229.py:6: DtypeWarning: Columns (1102,1104,1106,1108,1110,1112,1114,1116,1118,1120,1122,1124,1126,1128) have mixed types. Specify dtype option on import or set low_memory=False.\n",
      "  k_data = pd.read_csv(f'data/{file_name}', names=keys, usecols=keys, header=None)\n"
     ]
    }
   ],
   "source": [
    "cols_df = pd.read_csv('data/col_names.csv', header=None)\n",
    "types_df = pd.read_csv('data/col_types.csv', header=None)\n",
    "\n",
    "keys = cols_df[0].tolist()\n",
    "\n",
    "k_data = pd.read_csv(f'data/{file_name}', names=keys, usecols=keys, header=None)\n",
    "k_data.check_time = pd.to_datetime(k_data.check_time)\n"
   ]
  },
  {
   "cell_type": "code",
   "execution_count": 13,
   "metadata": {},
   "outputs": [],
   "source": [
    "def process_data(data, rack, start, end, datatype):\n",
    "    racks = data[(data['rack'] == rack)]\n",
    "    racks = racks.loc[start:end]\n",
    "    cols = [col for col in racks.columns if ('check_time' in col or datatype in col and 'iosb' not in col and 'pol' not in col)]\n",
    "    processed = racks.loc[:,cols]\n",
    "    return processed\n"
   ]
  },
  {
   "cell_type": "code",
   "execution_count": 21,
   "metadata": {},
   "outputs": [],
   "source": [
    "def out_path(type, rack):\n",
    "    return(f'vue-project/data/{type}-data-{rack}.csv')"
   ]
  },
  {
   "cell_type": "code",
   "execution_count": 14,
   "metadata": {},
   "outputs": [],
   "source": [
    "out_paths = [\n",
    "    f'vue-project/data/temp-data-{rack_err}.csv',\n",
    "    f'vue-project/data/temp-data-{rack_neighbor}.csv',\n",
    "    # f'vue-project/data/vol-data-{rack_err}.csv',\n",
    "    # f'vue-project/data/vol-data-{rack_norm}.csv'\n",
    "]"
   ]
  },
  {
   "cell_type": "code",
   "execution_count": 15,
   "metadata": {},
   "outputs": [],
   "source": [
    "temp_data_err = process_data(k_data, rack_err, start, end, 'temp')\n",
    "temp_data_other = process_data(k_data, rack_neighbor, start, end, 'temp')\n",
    "# temp_data_err.to_csv(out_paths[0], index=False)\n",
    "temp_data_other.to_csv(out_path('temp', rack_neighbor), index=False)\n"
   ]
  },
  {
   "cell_type": "code",
   "execution_count": 51,
   "metadata": {},
   "outputs": [
    {
     "data": {
      "text/html": [
       "<div>\n",
       "<style scoped>\n",
       "    .dataframe tbody tr th:only-of-type {\n",
       "        vertical-align: middle;\n",
       "    }\n",
       "\n",
       "    .dataframe tbody tr th {\n",
       "        vertical-align: top;\n",
       "    }\n",
       "\n",
       "    .dataframe thead th {\n",
       "        text-align: right;\n",
       "    }\n",
       "</style>\n",
       "<table border=\"1\" class=\"dataframe\">\n",
       "  <thead>\n",
       "    <tr style=\"text-align: right;\">\n",
       "      <th></th>\n",
       "      <th>check_time</th>\n",
       "      <th>a0_fan0_rpm</th>\n",
       "      <th>a0_fan1_rpm</th>\n",
       "      <th>a1_fan0_rpm</th>\n",
       "      <th>a1_fan1_rpm</th>\n",
       "      <th>a2_fan0_rpm</th>\n",
       "      <th>a2_fan1_rpm</th>\n",
       "      <th>a3_fan0_rpm</th>\n",
       "      <th>a3_fan1_rpm</th>\n",
       "      <th>a4_fan0_rpm</th>\n",
       "      <th>a4_fan1_rpm</th>\n",
       "      <th>a5_fan0_rpm</th>\n",
       "      <th>a5_fan1_rpm</th>\n",
       "      <th>b0_fan0_rpm</th>\n",
       "      <th>b1_fan0_rpm</th>\n",
       "    </tr>\n",
       "  </thead>\n",
       "  <tbody>\n",
       "  </tbody>\n",
       "</table>\n",
       "</div>"
      ],
      "text/plain": [
       "Empty DataFrame\n",
       "Columns: [check_time, a0_fan0_rpm, a0_fan1_rpm, a1_fan0_rpm, a1_fan1_rpm, a2_fan0_rpm, a2_fan1_rpm, a3_fan0_rpm, a3_fan1_rpm, a4_fan0_rpm, a4_fan1_rpm, a5_fan0_rpm, a5_fan1_rpm, b0_fan0_rpm, b1_fan0_rpm]\n",
       "Index: []"
      ]
     },
     "execution_count": 51,
     "metadata": {},
     "output_type": "execute_result"
    }
   ],
   "source": [
    "rack_neighbor = rack_neighbor_list[2]\n",
    "fan_data_neighbor = process_data(k_data, rack_neighbor, start, end, 'rpm')\n",
    "fan_data_neighbor"
   ]
  },
  {
   "cell_type": "code",
   "execution_count": 43,
   "metadata": {},
   "outputs": [],
   "source": [
    "fan_data_neighbor.to_csv(out_path('fan', rack_neighbor), index = False)"
   ]
  },
  {
   "cell_type": "code",
   "execution_count": 81,
   "metadata": {},
   "outputs": [],
   "source": [
    "for rack_neighbor in rack_neighbor_list:\n",
    "    fan_data_neighbor = process_data(k_data, rack_neighbor, start, end, 'rpm')\n",
    "    fan_data_neighbor.to_csv(out_path('fan', rack_neighbor), index = False)\n",
    "    temp_data_neighbor = process_data(k_data, rack_neighbor, start, end, 'temp')\n",
    "    temp_data_neighbor.to_csv(out_path('temp', rack_neighbor), index = False)\n",
    "    vol_data_neighbor = process_data(k_data, rack_neighbor, start, end, 'vol')\n",
    "    vol_data_neighbor.to_csv(out_path('vol', rack_neighbor), index = False)"
   ]
  },
  {
   "cell_type": "code",
   "execution_count": null,
   "metadata": {},
   "outputs": [],
   "source": []
  }
 ],
 "metadata": {
  "kernelspec": {
   "display_name": "spyder-env",
   "language": "python",
   "name": "python3"
  },
  "language_info": {
   "codemirror_mode": {
    "name": "ipython",
    "version": 3
   },
   "file_extension": ".py",
   "mimetype": "text/x-python",
   "name": "python",
   "nbconvert_exporter": "python",
   "pygments_lexer": "ipython3",
   "version": "3.10.6"
  }
 },
 "nbformat": 4,
 "nbformat_minor": 2
}
